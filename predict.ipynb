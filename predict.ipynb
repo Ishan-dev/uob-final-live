{
 "cells": [
  {
   "cell_type": "code",
   "execution_count": 1,
   "metadata": {},
   "outputs": [],
   "source": [
    "import random\n",
    "import pandas as pd\n",
    "from sklearn.feature_extraction.text import TfidfVectorizer\n",
    "from sklearn.naive_bayes import MultinomialNB\n",
    "from sklearn.pipeline import Pipeline\n",
    "import pickle\n",
    "from flask import Flask, request, render_template, jsonify, make_response\n",
    "from functions_only_save import make_face_df_save, find_face_shape\n",
    "from recommender import process_rec_pics, run_recommender_face_shape"
   ]
  },
  {
   "cell_type": "code",
   "execution_count": 2,
   "metadata": {},
   "outputs": [],
   "source": [
    "df = pd.DataFrame(columns = ['0','1','2','3','4','5','6','7','8','9','10','11',\t'12',\t'13',\t'14',\t'15',\t'16','17',\n",
    "                             '18',\t'19',\t'20',\t'21',\t'22',\t'23',\t'24','25',\t'26',\t'27',\t'28',\t'29',\n",
    "                             '30',\t'31',\t'32',\t'33',\t'34',\t'35',\t'36',\t'37',\t'38',\t'39',\t'40',\t'41',\n",
    "                             '42',\t'43',\t'44',\t'45',\t'46',\t'47',\t'48',\t'49',\t'50',\t'51',\t'52',\t'53',\n",
    "                             '54',\t'55',\t'56',\t'57',\t'58',\t'59',\t'60',\t'61',\t'62',\t'63',\t'64',\t'65',\n",
    "                             '66',\t'67',\t'68',\t'69',\t'70',\t'71',\t'72',\t'73',\t'74',\t'75',\t'76',\t'77',\n",
    "                             '78',\t'79',\t'80',\t'81',\t'82',\t'83',\t'84',\t'85',\t'86',\t'87',\t'88',\t'89',\n",
    "                             '90',\t'91',\t'92',\t'93',\t'94',\t'95',\t'96',\t'97',\t'98',\t'99',\t'100',\t'101',\n",
    "                             '102',\t'103',\t'104',\t'105',\t'106',\t'107',\t'108',\t'109',\t'110',\t'111',\t'112',\t'113',\n",
    "                             '114',\t'115',\t'116',\t'117',\t'118',\t'119',\t'120',\t'121',\t'122',\t'123',\t'124',\t'125',\n",
    "                             '126',\t'127',\t'128',\t'129',\t'130',\t'131',\t'132',\t'133',\t'134',\t'135',\t'136',\t'137',\n",
    "                             '138',\t'139',\t'140',\t'141',\t'142',\t'143','A1','A2','A3','A4','A5','A6','A7','A8','A9',\n",
    "                            'A10','A11','A12','A13','A14','A15','A16','Width','Height','H_W_Ratio','Jaw_width','J_F_Ratio',\n",
    "                             'MJ_width','MJ_J_width'])"
   ]
  },
  {
   "cell_type": "code",
   "execution_count": 5,
   "metadata": {},
   "outputs": [
    {
     "ename": "SyntaxError",
     "evalue": "(unicode error) 'unicodeescape' codec can't decode bytes in position 2-3: truncated \\UXXXXXXXX escape (<ipython-input-5-33e01f368222>, line 1)",
     "output_type": "error",
     "traceback": [
      "\u001b[1;36m  File \u001b[1;32m\"<ipython-input-5-33e01f368222>\"\u001b[1;36m, line \u001b[1;32m1\u001b[0m\n\u001b[1;33m    test_photo = 'C:\\Users\\Ishan\\Desktop\\recommendation_pics\\Lisa Kudrow.jpg'\u001b[0m\n\u001b[1;37m                ^\u001b[0m\n\u001b[1;31mSyntaxError\u001b[0m\u001b[1;31m:\u001b[0m (unicode error) 'unicodeescape' codec can't decode bytes in position 2-3: truncated \\UXXXXXXXX escape\n"
     ]
    }
   ],
   "source": [
    "test_photo = 'C:\\Users\\Ishan\\Desktop\\recommendation_pics\\Lisa Kudrow.jpg'\n",
    "updo_input = 'NO'\n",
    "file_num = 2035\n",
    "style_df = pd.DataFrame()\n",
    "style_df = pd.DataFrame(columns = ['face_shape','hair_length','location','filename','score'])\n",
    "hair_length_input = 'Updo'\n",
    "\n",
    "if updo_input in ['n','no','N','No','NO']:\n",
    "    hair_length_input = 'long'\n",
    "    if hair_length_input in ['short','Short','s','S']:\n",
    "            hair_length_input = 'Short'\n",
    "    if hair_length_input in ['long','longer','l','L']:\n",
    "            hair_length_input = 'Long'\n",
    "make_face_df_save(test_photo,file_num,df)\n",
    "face_shape = find_face_shape(df,file_num)\n",
    "process_rec_pics(style_df)\n",
    "img_filename = run_recommender_face_shape(face_shape[0],style_df,hair_length_input)"
   ]
  },
  {
   "cell_type": "code",
   "execution_count": null,
   "metadata": {},
   "outputs": [],
   "source": []
  }
 ],
 "metadata": {
  "kernelspec": {
   "display_name": "Python 3",
   "language": "python",
   "name": "python3"
  },
  "language_info": {
   "codemirror_mode": {
    "name": "ipython",
    "version": 3
   },
   "file_extension": ".py",
   "mimetype": "text/x-python",
   "name": "python",
   "nbconvert_exporter": "python",
   "pygments_lexer": "ipython3",
   "version": "3.7.7"
  }
 },
 "nbformat": 4,
 "nbformat_minor": 4
}
