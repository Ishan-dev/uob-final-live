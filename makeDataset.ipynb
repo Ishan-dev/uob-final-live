{
 "cells": [
  {
   "cell_type": "code",
   "execution_count": 2,
   "metadata": {},
   "outputs": [],
   "source": [
    "%run -i functions_only.py  "
   ]
  },
  {
   "cell_type": "code",
   "execution_count": null,
   "metadata": {},
   "outputs": [],
   "source": [
    "%run -i functions_only_save.py"
   ]
  },
  {
   "cell_type": "code",
   "execution_count": null,
   "metadata": {},
   "outputs": [],
   "source": [
    "%matplotlib inline\n",
    "import matplotlib.pyplot as plt\n",
    "import pandas as pd\n",
    "from PIL import Image, ImageDraw,ImageFont\n",
    "import numpy as np\n",
    "\n",
    "import warnings\n",
    "warnings.filterwarnings('ignore')\n",
    "\n",
    "data = pd.DataFrame()\n",
    "data.reset_index\n",
    "shape_df = pd.DataFrame(columns = ['filenum','filename','classified_shape'])\n",
    "shape_array = []\n",
    "def store_features_and_classification():\n",
    "    filenum = -1\n",
    "    sub_dir = [q for q in pathlib.Path(image_dir).iterdir() if q.is_dir()]\n",
    "    start_j = 0\n",
    "    end_j = len(sub_dir)\n",
    "\n",
    "    for j in range(start_j, end_j):\n",
    "        images_dir = [p for p in pathlib.Path(sub_dir[j]).iterdir() if p.is_file()]\n",
    "\n",
    "        for p in pathlib.Path(sub_dir[j]).iterdir():\n",
    "#             print(p)\n",
    "\n",
    "            shape_array= []\n",
    "            if 1 == 1:\n",
    "                    face_file_name = os.path.basename(p)\n",
    "                    classified_face_shape = os.path.basename(os.path.dirname(p)) \n",
    "                    filenum += 1\n",
    "                    make_face_df(p,filenum)\n",
    "                    shape_array.append(filenum)\n",
    "                    shape_array.append(face_file_name)  \n",
    "                    shape_array.append(classified_face_shape)\n",
    "                    shape_df.loc[filenum] = np.array(shape_array)"
   ]
  },
  {
   "cell_type": "code",
   "execution_count": null,
   "metadata": {},
   "outputs": [],
   "source": [
    "store_features_and_classification()  \n",
    "data = pd.concat([df, shape_df], axis=1)"
   ]
  },
  {
   "cell_type": "code",
   "execution_count": null,
   "metadata": {},
   "outputs": [],
   "source": [
    "data.to_csv('all_features.csv')"
   ]
  }
 ],
 "metadata": {
  "kernelspec": {
   "display_name": "Python 3",
   "language": "python",
   "name": "python3"
  },
  "language_info": {
   "codemirror_mode": {
    "name": "ipython",
    "version": 3
   },
   "file_extension": ".py",
   "mimetype": "text/x-python",
   "name": "python",
   "nbconvert_exporter": "python",
   "pygments_lexer": "ipython3",
   "version": "3.7.7"
  }
 },
 "nbformat": 4,
 "nbformat_minor": 4
}
